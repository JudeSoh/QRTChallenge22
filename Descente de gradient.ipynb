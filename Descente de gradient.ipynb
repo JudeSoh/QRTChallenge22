{
 "cells": [
  {
   "cell_type": "markdown",
   "id": "1229ddf7-84ee-4d54-8b5c-5df07daf57b9",
   "metadata": {},
   "source": [
    "# 1. The data"
   ]
  },
  {
   "cell_type": "code",
   "execution_count": 2,
   "id": "f6e8e74c-078c-4d5b-98cf-562fa990ccab",
   "metadata": {},
   "outputs": [],
   "source": [
    "import numpy as np\n",
    "import pandas as pd\n",
    "import matplotlib.pyplot as plt\n",
    "\n",
    "#path = '/home/ahardy/ENSchallengeData/' \n",
    "\n",
    "X_train = pd.read_csv('./X_train.csv', index_col=0, sep=',')\n",
    "X_train.columns.name = 'date'\n",
    "\n",
    "Y_train = pd.read_csv('./Y_train.csv', index_col=0, sep=',')\n",
    "Y_train.columns.name = 'date'"
   ]
  },
  {
   "cell_type": "code",
   "execution_count": 4,
   "id": "698e8629-dfe6-49ab-985e-c9bcf104d6bc",
   "metadata": {},
   "outputs": [
    {
     "data": {
      "text/plain": [
       "(50, 754)"
      ]
     },
     "execution_count": 4,
     "metadata": {},
     "output_type": "execute_result"
    }
   ],
   "source": [
    "X_train.shape"
   ]
  },
  {
   "cell_type": "code",
   "execution_count": 3,
   "id": "a6f57a88-97fc-4923-90ba-f08bdb10693e",
   "metadata": {},
   "outputs": [
    {
     "name": "stderr",
     "output_type": "stream",
     "text": [
      "C:\\Users\\user\\AppData\\Local\\Temp\\ipykernel_4408\\1489607172.py:1: FutureWarning: In a future version of pandas all arguments of concat except for the argument 'objs' will be keyword-only.\n",
      "  X_train_reshape = pd.concat([ X_train.T.shift(i+1).stack(dropna=False) for i in range(250) ], 1).dropna()\n"
     ]
    }
   ],
   "source": [
    "X_train_reshape = pd.concat([ X_train.T.shift(i+1).stack(dropna=False) for i in range(250) ], 1).dropna()\n",
    "X_train_reshape.columns = pd.Index(range(1,251), name='timeLag')"
   ]
  },
  {
   "cell_type": "markdown",
   "id": "39c42e91-26da-478f-bbbf-6e8cf2e58949",
   "metadata": {},
   "source": [
    "# 2.Some functions we will need taken from the QRT notebook"
   ]
  },
  {
   "cell_type": "code",
   "execution_count": 20,
   "id": "7ed2eb1c-52d2-45cc-9cc7-1c61a5bce64d",
   "metadata": {},
   "outputs": [],
   "source": [
    "# to check the orthonormality constraints as in the metric:\n",
    "    \n",
    "def checkOrthonormality(A): \n",
    "    \n",
    "    bool = True\n",
    "    D, F = A.shape   \n",
    "    Error = pd.DataFrame(A.T @ A - np.eye(F)).abs()\n",
    "    \n",
    "    if any(Error.unstack() > 1e-6):\n",
    "        bool = False\n",
    "     \n",
    "    return bool"
   ]
  },
  {
   "cell_type": "code",
   "execution_count": 21,
   "id": "68a746f1-ba61-4c99-b65d-1078b7eb2d0b",
   "metadata": {},
   "outputs": [],
   "source": [
    "def randomA(D=250, F=10):  \n",
    "    \n",
    "    M = np.random.randn(D,F)\n",
    "    randomStiefel = np.linalg.qr(M)[0] # Apply Gram-Schmidt algorithm to the columns of M\n",
    "    \n",
    "    return randomStiefel"
   ]
  },
  {
   "cell_type": "code",
   "execution_count": 19,
   "id": "627b8e83-773b-49f8-81e7-e3ea355e4f55",
   "metadata": {},
   "outputs": [],
   "source": [
    "# Given a Stiefel matrix A returns the optimal \\beta\n",
    "\n",
    "def fitBeta(A):\n",
    "    \n",
    "    predictors = X_train_reshape @ A # the dataframe of the 10 factors created from A with the (date, stock) in index\n",
    "    targets = Y_train.T.stack()\n",
    "    beta = np.linalg.inv(predictors.T @ predictors) @ predictors.T @ targets\n",
    "    \n",
    "    return beta.to_numpy()"
   ]
  },
  {
   "cell_type": "code",
   "execution_count": 18,
   "id": "c656d332-a183-4461-9fc1-05f1ba74d343",
   "metadata": {},
   "outputs": [],
   "source": [
    "#Given a Stiefel matrix A returns the metric on the training set. \n",
    "\n",
    "def metric_train(A, beta): \n",
    "    \n",
    "    if not checkOrthonormality(A):\n",
    "        return -1.0    \n",
    "    \n",
    "    Ypred = (X_train_reshape @ A @ beta).unstack().T         \n",
    "    Ytrue = Y_train\n",
    "    \n",
    "    Ytrue = Ytrue.div(np.sqrt((Ytrue**2).sum()), 1)    \n",
    "    Ypred = Ypred.div(np.sqrt((Ypred**2).sum()), 1)\n",
    "\n",
    "    meanOverlap = (Ytrue * Ypred).sum().mean()\n",
    "\n",
    "    return  meanOverlap  "
   ]
  },
  {
   "cell_type": "markdown",
   "id": "80aafe6f-89df-4fc6-b211-b3ba9a5f44bc",
   "metadata": {},
   "source": [
    "# 3. The roadmap.\n",
    "\n",
    "  We first reformulate the problem in the following way: given X_train_reshape and Ytrue, our goal is to minimize the function \n",
    " $F: M_{250}^{10} \\to \\mathbb{R}$ defined by\n",
    " \n",
    " $F(A) = - \\frac{1}{504} \\sum_{t=250}^{753} \\frac{ <\\tilde{S}_t(A),\\tilde{R}_t>}{||\\tilde{S}_t(A)|| ||\\tilde{R}_t||}$ where:\n",
    " \n",
    "  _ $M_{250}^{10}$ is the Stiefel manifold, namely the set of $250 \\times 10$ matrices such that $A^TA = I_{10}$.\n",
    "  \n",
    "  _ $\\tilde{S}_t$ is our prediction for  $\\tilde{R}_t$ in the setup of Stiefel matrices. For each fixed $t$, $\\tilde{S}_t$ and $\\tilde{R}_t$ are elements of $\\mathbb{R}^{50}$.\n",
    "  \n",
    "   The way the vectors $(\\tilde{S}_t)_{t=250, \\ldots, 753}$ are constructed given the matrix $A$ is quite simple: \n",
    "   \n",
    "   _ First compute the explicative factors associated to $A$, that is \n",
    " \n",
    "  $F_{t,l} = \\sum_{k=1}^{10} A_{k,l} R_{t+1-l}$ for $l=1,2, \\ldots, 10$.\n",
    "  \n",
    "   _ Then optimize the vector $\\beta \\in \\mathbb{R}^{10}$ with respect to the observation using linear regression, that is find the optimal $\\beta$'s for the relation \n",
    "    \n",
    "  $S_{t+1} = \\sum_{l=1}^{10} \\beta_l F_{t,l}$ to hold as accurately as possible. This provides a vector $\\beta$, which we use to construct our prediction\n",
    "  \n",
    "  $\\tilde{S}_{t+1} = \\sum_{l=1}^{10} \\beta_l F_{t,l}$. \n",
    "  \n",
    "  \n",
    "Note that given $A$, the vector $\\beta$ is actually uniquely determined; in other words, we can write $\\beta = \\beta(A)$. Actually, with the notations of the notebook (see the definition of fitBeta), if we define \n",
    " predictors = X_train_reshape @ A and targets = Y_train.T.stack(), we have the following:\n",
    " \n",
    "  beta = np.linalg.inv(predictors.T @ predictors) @ predictors.T @ targets.\n",
    "  \n",
    "   This writes mathematically \n",
    "  \n",
    " $ \\beta =  \\beta(A) = [(X_{tr} A)^T(X_{tr} A)]^{-1} (X_{tr} A)^T Y_{pred} $\n",
    "\n",
    " where $X_{tr}$ is the vectors of delayed stock prices and $Y_{pred}$ are the associated predictions. In a similar way, for $t \\in [250,753]$, we can write \n",
    "\n",
    " $\\frac{ <\\tilde{S}_t(A),\\tilde{R}_t>}{||\\tilde{S}_t(A)|| ||\\tilde{R}_t||} = f(g(A))$ \n",
    "\n",
    " where $f: \\mathbb{R}^{50} \\to \\mathbb{R}$ is defined by $f(x) = \\frac{x.r}{||x||}$ where we chose to write $r = \\frac{\\tilde{R}_t}{||\\tilde{R}_t||}$ and $g : \\mathbb{R}^{250 \\times 10} \\to \\mathbb{R}^{50}$ \n",
    " is defined by $g(A) = X_{tr} A \\beta(A)$. \n",
    "\n",
    " \n",
    "  \n",
    "  "
   ]
  },
  {
   "cell_type": "markdown",
   "id": "1bd5ea96-215c-4997-9b64-cd83ad5084a3",
   "metadata": {},
   "source": [
    " \n",
    "  \n",
    " \n",
    "  \n",
    "     \n",
    " We very much would like to implement some sort of gradient descent on the function $F$. Of course, this is not straightforward since making a step in any direction is going to leave the Stiefel manifold, so that we need to ensure that we proceed along the manifold. Fortunately, a 2010 paper provides such an algorithm. For this algorithm to work, the first step is to compute explicitly the gradient of the function $F$ at any given point $A$ of the manifold which we denote by $ G = (\\frac{\\partial F}{\\partial A_{i,j}})_{i,j}$ which is a $250 \\times 10$ matrix. \n",
    " \n",
    "  Getting an exact expression for this gradient is a bit cumbersome, so that in first approximation we assume $\\beta$ to be locally constant (and will update its value accordingly for each step of our algorithm). Under this assumption (which might prove quite terrible, I don't know), the computation of the gradient merely reduces to some easy derivatives (no inversion matrices needed, as would be the case for differentiating $\\beta$), and we get the expression:\n",
    " \n",
    " $G = C * \\beta.T$ where $C = \\sum_{j=250}^{753} C_j$ and $C_j = \\frac{1}{||R_{j}||.||\\tilde{S}_{j}||}. [R_{j}-\\frac{(R_{j}.\\tilde{S}_{j})}{||\\tilde{S}_{j}||^2} \\tilde{S}_{j}] ** R_j^{past}$. We denoted by $R_j^{past}$ the vector $X_{train reshape}.T[:,j]$ which is a 2520 * 1 vector, and $**$ is the component by component scalar product (that is, $a ** (b_1,b_2) = (a.b_1,a.b_2))$).\n",
    " \n",
    "  The algorithm then proceeds as follows:\n",
    "  \n",
    "  _ First we define a skew symmetric matrix $W = G A^T - A G^T$ of size $250 \\times 250.$\n",
    "  \n",
    "  _ Then we proceed along the curve $Y(t) = (I_{250} + t W)^{-1} (I_{250} - t W) A$. The very nice thing is that for any $t$ (let us say small enough), $Y(t)$ is an element of $M_{250}^{10}$."
   ]
  },
  {
   "cell_type": "markdown",
   "id": "baa6b809-b825-4e81-be31-43caa6fd82da",
   "metadata": {},
   "source": [
    "First we define a useful fonction for the computation of the gradient. Given a and b vectors, returns  $\\frac{1}{||a||.||b||}. [a-\\frac{(a.b)}{||b||^2} b]$ (note that of course this is NOT symmetric in $a,b$)"
   ]
  },
  {
   "cell_type": "code",
   "execution_count": 69,
   "id": "84ca7c28-e9ad-4d5c-936e-ead86209ba9f",
   "metadata": {},
   "outputs": [],
   "source": [
    "def ps(A,B,D=250):\n",
    "    Y = [A - (A * B).sum()/((B**2).sum())*B].div(np.sqrt((A**2).sum()) * np.sqrt((B**2).sum()))\n",
    "    return Y \n",
    "\n",
    "    "
   ]
  },
  {
   "cell_type": "markdown",
   "id": "f8d92b25-8f56-4e9a-80e6-1d8dd2210ea6",
   "metadata": {},
   "source": [
    "Then we construct the matrix C"
   ]
  },
  {
   "cell_type": "code",
   "execution_count": null,
   "id": "d7e03070-b043-411f-86a1-cee85944200a",
   "metadata": {},
   "outputs": [],
   "source": [
    "def "
   ]
  },
  {
   "cell_type": "markdown",
   "id": "6eb92324-6ce6-4ad6-8f94-97ec3a62548d",
   "metadata": {},
   "source": [
    "# 5. Computing the gradient of F."
   ]
  },
  {
   "cell_type": "code",
   "execution_count": 7,
   "id": "d3f8d4bc-8d9d-4812-964c-20d759636751",
   "metadata": {},
   "outputs": [],
   "source": [
    "U = np.random.randn(5,5)\n",
    "U\n",
    "U_pd = pd.DataFrame(U,columns=range(5))"
   ]
  },
  {
   "cell_type": "code",
   "execution_count": 8,
   "id": "ab15c8e6-1903-4e0b-9e3d-7c87f7cde572",
   "metadata": {},
   "outputs": [
    {
     "data": {
      "text/html": [
       "<div>\n",
       "<style scoped>\n",
       "    .dataframe tbody tr th:only-of-type {\n",
       "        vertical-align: middle;\n",
       "    }\n",
       "\n",
       "    .dataframe tbody tr th {\n",
       "        vertical-align: top;\n",
       "    }\n",
       "\n",
       "    .dataframe thead th {\n",
       "        text-align: right;\n",
       "    }\n",
       "</style>\n",
       "<table border=\"1\" class=\"dataframe\">\n",
       "  <thead>\n",
       "    <tr style=\"text-align: right;\">\n",
       "      <th></th>\n",
       "      <th>0</th>\n",
       "      <th>1</th>\n",
       "      <th>2</th>\n",
       "      <th>3</th>\n",
       "      <th>4</th>\n",
       "    </tr>\n",
       "  </thead>\n",
       "  <tbody>\n",
       "    <tr>\n",
       "      <th>0</th>\n",
       "      <td>-0.780047</td>\n",
       "      <td>-0.067963</td>\n",
       "      <td>-0.517825</td>\n",
       "      <td>-0.651537</td>\n",
       "      <td>1.300125</td>\n",
       "    </tr>\n",
       "    <tr>\n",
       "      <th>1</th>\n",
       "      <td>1.399684</td>\n",
       "      <td>0.577422</td>\n",
       "      <td>1.737584</td>\n",
       "      <td>-2.588198</td>\n",
       "      <td>-0.930516</td>\n",
       "    </tr>\n",
       "    <tr>\n",
       "      <th>2</th>\n",
       "      <td>-1.821823</td>\n",
       "      <td>-1.099561</td>\n",
       "      <td>-1.324913</td>\n",
       "      <td>-0.922661</td>\n",
       "      <td>-0.970990</td>\n",
       "    </tr>\n",
       "    <tr>\n",
       "      <th>3</th>\n",
       "      <td>-1.225205</td>\n",
       "      <td>-2.267096</td>\n",
       "      <td>0.828100</td>\n",
       "      <td>-0.715108</td>\n",
       "      <td>-0.882429</td>\n",
       "    </tr>\n",
       "    <tr>\n",
       "      <th>4</th>\n",
       "      <td>0.244252</td>\n",
       "      <td>0.579590</td>\n",
       "      <td>-0.091930</td>\n",
       "      <td>-0.145283</td>\n",
       "      <td>-0.295153</td>\n",
       "    </tr>\n",
       "  </tbody>\n",
       "</table>\n",
       "</div>"
      ],
      "text/plain": [
       "          0         1         2         3         4\n",
       "0 -0.780047 -0.067963 -0.517825 -0.651537  1.300125\n",
       "1  1.399684  0.577422  1.737584 -2.588198 -0.930516\n",
       "2 -1.821823 -1.099561 -1.324913 -0.922661 -0.970990\n",
       "3 -1.225205 -2.267096  0.828100 -0.715108 -0.882429\n",
       "4  0.244252  0.579590 -0.091930 -0.145283 -0.295153"
      ]
     },
     "execution_count": 8,
     "metadata": {},
     "output_type": "execute_result"
    }
   ],
   "source": [
    "U_pd"
   ]
  },
  {
   "cell_type": "code",
   "execution_count": 16,
   "id": "b77c360b-45bf-4c13-9838-31ec33209faf",
   "metadata": {},
   "outputs": [
    {
     "name": "stderr",
     "output_type": "stream",
     "text": [
      "C:\\Users\\user\\AppData\\Local\\Temp\\ipykernel_4408\\3997061981.py:1: FutureWarning: In a future version of pandas all arguments of concat except for the argument 'objs' will be keyword-only.\n",
      "  X_train_reshape = pd.concat([ X_train.T.shift(i+1).stack(dropna=False) for i in range(250) ], 1).dropna()\n"
     ]
    }
   ],
   "source": [
    "X_train_reshape = pd.concat([ X_train.T.shift(i+1).stack(dropna=False) for i in range(250) ], 1).dropna()"
   ]
  },
  {
   "cell_type": "code",
   "execution_count": 28,
   "id": "b9c41721-b593-4509-af55-64c0ec0920b0",
   "metadata": {},
   "outputs": [
    {
     "data": {
      "text/plain": [
       "0  0   -0.780047\n",
       "   1    1.399684\n",
       "   2   -1.821823\n",
       "   3   -1.225205\n",
       "   4    0.244252\n",
       "1  0   -0.067963\n",
       "   1    0.577422\n",
       "   2   -1.099561\n",
       "   3   -2.267096\n",
       "   4    0.579590\n",
       "2  0   -0.517825\n",
       "   1    1.737584\n",
       "   2   -1.324913\n",
       "   3    0.828100\n",
       "   4   -0.091930\n",
       "3  0   -0.651537\n",
       "   1   -2.588198\n",
       "   2   -0.922661\n",
       "   3   -0.715108\n",
       "   4   -0.145283\n",
       "4  0    1.300125\n",
       "   1   -0.930516\n",
       "   2   -0.970990\n",
       "   3   -0.882429\n",
       "   4   -0.295153\n",
       "dtype: float64"
      ]
     },
     "execution_count": 28,
     "metadata": {},
     "output_type": "execute_result"
    }
   ],
   "source": [
    "U_pd.T.stack()"
   ]
  },
  {
   "cell_type": "code",
   "execution_count": 12,
   "id": "3e316381-1e25-45f8-bcf9-b12a3f4eb51b",
   "metadata": {},
   "outputs": [
    {
     "data": {
      "text/plain": [
       "array([[ 0.        ,  0.35706273, -0.0247103 ,  1.23604444,  0.40647254],\n",
       "       [-0.35706273,  0.        , -4.64260956, -1.11259063, -1.15651935],\n",
       "       [ 0.0247103 ,  4.64260956,  0.        ,  4.65328498,  0.25450636],\n",
       "       [-1.23604444,  1.11259063, -4.65328498,  0.        ,  0.99147823],\n",
       "       [-0.40647254,  1.15651935, -0.25450636, -0.99147823,  0.        ]])"
      ]
     },
     "execution_count": 12,
     "metadata": {},
     "output_type": "execute_result"
    }
   ],
   "source": []
  },
  {
   "cell_type": "code",
   "execution_count": 13,
   "id": "b691fdda-7c20-4a84-858e-2e13c82ee86b",
   "metadata": {},
   "outputs": [
    {
     "data": {
      "text/plain": [
       "range(-100, 100)"
      ]
     },
     "execution_count": 13,
     "metadata": {},
     "output_type": "execute_result"
    }
   ],
   "source": [
    "range(-100,100)"
   ]
  },
  {
   "cell_type": "code",
   "execution_count": 22,
   "id": "5af76f0c-9daf-4e9c-ae00-e1f8bedd0613",
   "metadata": {},
   "outputs": [],
   "source": [
    "A = randomA()\n",
    "beta = fitBeta(A)\n",
    "m = metric_train(A, beta)"
   ]
  },
  {
   "cell_type": "code",
   "execution_count": 23,
   "id": "188f770e-1f0a-4498-a85c-7ae23a9879fd",
   "metadata": {},
   "outputs": [
    {
     "data": {
      "text/plain": [
       "0.009989403184319668"
      ]
     },
     "execution_count": 23,
     "metadata": {},
     "output_type": "execute_result"
    }
   ],
   "source": [
    "m"
   ]
  },
  {
   "cell_type": "code",
   "execution_count": 24,
   "id": "971d94d6-c223-4016-9472-0b37fe05e051",
   "metadata": {},
   "outputs": [],
   "source": [
    "U = np.random.randn(250,250)\n",
    "W = U - U.T #generating a skew symmetric random matrix at each step"
   ]
  },
  {
   "cell_type": "code",
   "execution_count": 35,
   "id": "0d5b29fe-7e1a-42f6-8241-c593dbdb415b",
   "metadata": {},
   "outputs": [],
   "source": [
    "t=90"
   ]
  },
  {
   "cell_type": "code",
   "execution_count": 36,
   "id": "e13263a3-8f73-45b5-86b5-cd6137e91d22",
   "metadata": {},
   "outputs": [],
   "source": [
    "Y =  np.linalg.inv(np.eye(250) - t/1000*W) @  (np.eye(250) - t/1000*W) @ A\n",
    "beta = fitBeta(Y)\n",
    "m = metric_train(Y,beta)"
   ]
  },
  {
   "cell_type": "code",
   "execution_count": 37,
   "id": "e2dd24a4-ed9d-471b-b1eb-17e80342f45b",
   "metadata": {},
   "outputs": [
    {
     "data": {
      "text/plain": [
       "0.00998940318431968"
      ]
     },
     "execution_count": 37,
     "metadata": {},
     "output_type": "execute_result"
    }
   ],
   "source": [
    "m"
   ]
  },
  {
   "cell_type": "code",
   "execution_count": 41,
   "id": "b9767c31-90aa-4da7-8baa-c18bb471525f",
   "metadata": {},
   "outputs": [],
   "source": [
    "I = np.eye(3)"
   ]
  },
  {
   "cell_type": "code",
   "execution_count": 42,
   "id": "c84a4c7d-7446-45fc-8e83-275898cc54cd",
   "metadata": {},
   "outputs": [
    {
     "data": {
      "text/plain": [
       "array([[1., 0., 0.],\n",
       "       [0., 1., 0.],\n",
       "       [0., 0., 1.]])"
      ]
     },
     "execution_count": 42,
     "metadata": {},
     "output_type": "execute_result"
    }
   ],
   "source": [
    "I"
   ]
  },
  {
   "cell_type": "code",
   "execution_count": 43,
   "id": "24f3018c-4b5e-45e4-b6e4-a2b359ef00b3",
   "metadata": {},
   "outputs": [],
   "source": [
    "import pickle "
   ]
  },
  {
   "cell_type": "code",
   "execution_count": 63,
   "id": "c984bc63-a64d-45f5-a6bd-767f36884a70",
   "metadata": {},
   "outputs": [],
   "source": [
    "import pickle \n",
    "with open('mypicklefile', 'wb') as f1:\n",
    "    pickle.dump(I, f1)"
   ]
  },
  {
   "cell_type": "code",
   "execution_count": 53,
   "id": "965daab7-7c6d-4ffa-a710-961cf103f89e",
   "metadata": {},
   "outputs": [],
   "source": [
    "with open('mypicklefile', 'r') as f1:\n",
    "    f1.read()"
   ]
  },
  {
   "cell_type": "code",
   "execution_count": 64,
   "id": "86a57728-fa0e-4153-a401-ef30649c5c49",
   "metadata": {},
   "outputs": [],
   "source": [
    "with open('mypicklefile', 'rb') as f1:\n",
    "    XAR = pickle.load(f1)"
   ]
  },
  {
   "cell_type": "code",
   "execution_count": 65,
   "id": "50d11a2c-2e6e-4611-a7dd-c531e2b38bb4",
   "metadata": {},
   "outputs": [
    {
     "data": {
      "text/plain": [
       "array([[1., 0., 0., 0., 0., 0., 0., 0., 0., 0., 0., 0., 0., 0.],\n",
       "       [0., 1., 0., 0., 0., 0., 0., 0., 0., 0., 0., 0., 0., 0.],\n",
       "       [0., 0., 1., 0., 0., 0., 0., 0., 0., 0., 0., 0., 0., 0.],\n",
       "       [0., 0., 0., 1., 0., 0., 0., 0., 0., 0., 0., 0., 0., 0.],\n",
       "       [0., 0., 0., 0., 1., 0., 0., 0., 0., 0., 0., 0., 0., 0.],\n",
       "       [0., 0., 0., 0., 0., 1., 0., 0., 0., 0., 0., 0., 0., 0.],\n",
       "       [0., 0., 0., 0., 0., 0., 1., 0., 0., 0., 0., 0., 0., 0.],\n",
       "       [0., 0., 0., 0., 0., 0., 0., 1., 0., 0., 0., 0., 0., 0.],\n",
       "       [0., 0., 0., 0., 0., 0., 0., 0., 1., 0., 0., 0., 0., 0.],\n",
       "       [0., 0., 0., 0., 0., 0., 0., 0., 0., 1., 0., 0., 0., 0.],\n",
       "       [0., 0., 0., 0., 0., 0., 0., 0., 0., 0., 1., 0., 0., 0.],\n",
       "       [0., 0., 0., 0., 0., 0., 0., 0., 0., 0., 0., 1., 0., 0.],\n",
       "       [0., 0., 0., 0., 0., 0., 0., 0., 0., 0., 0., 0., 1., 0.],\n",
       "       [0., 0., 0., 0., 0., 0., 0., 0., 0., 0., 0., 0., 0., 1.]])"
      ]
     },
     "execution_count": 65,
     "metadata": {},
     "output_type": "execute_result"
    }
   ],
   "source": [
    "XAR"
   ]
  },
  {
   "cell_type": "code",
   "execution_count": 61,
   "id": "6b9aed6f-4c1b-4461-85a4-cb63be7ec9f1",
   "metadata": {},
   "outputs": [],
   "source": [
    "I = np.eye(14)"
   ]
  },
  {
   "cell_type": "code",
   "execution_count": 62,
   "id": "18a91d48-9a7a-47f5-90c2-63f6046d9da5",
   "metadata": {},
   "outputs": [
    {
     "data": {
      "text/plain": [
       "array([[1., 0., 0., 0., 0., 0., 0., 0., 0., 0., 0., 0., 0., 0.],\n",
       "       [0., 1., 0., 0., 0., 0., 0., 0., 0., 0., 0., 0., 0., 0.],\n",
       "       [0., 0., 1., 0., 0., 0., 0., 0., 0., 0., 0., 0., 0., 0.],\n",
       "       [0., 0., 0., 1., 0., 0., 0., 0., 0., 0., 0., 0., 0., 0.],\n",
       "       [0., 0., 0., 0., 1., 0., 0., 0., 0., 0., 0., 0., 0., 0.],\n",
       "       [0., 0., 0., 0., 0., 1., 0., 0., 0., 0., 0., 0., 0., 0.],\n",
       "       [0., 0., 0., 0., 0., 0., 1., 0., 0., 0., 0., 0., 0., 0.],\n",
       "       [0., 0., 0., 0., 0., 0., 0., 1., 0., 0., 0., 0., 0., 0.],\n",
       "       [0., 0., 0., 0., 0., 0., 0., 0., 1., 0., 0., 0., 0., 0.],\n",
       "       [0., 0., 0., 0., 0., 0., 0., 0., 0., 1., 0., 0., 0., 0.],\n",
       "       [0., 0., 0., 0., 0., 0., 0., 0., 0., 0., 1., 0., 0., 0.],\n",
       "       [0., 0., 0., 0., 0., 0., 0., 0., 0., 0., 0., 1., 0., 0.],\n",
       "       [0., 0., 0., 0., 0., 0., 0., 0., 0., 0., 0., 0., 1., 0.],\n",
       "       [0., 0., 0., 0., 0., 0., 0., 0., 0., 0., 0., 0., 0., 1.]])"
      ]
     },
     "execution_count": 62,
     "metadata": {},
     "output_type": "execute_result"
    }
   ],
   "source": [
    "I"
   ]
  },
  {
   "cell_type": "code",
   "execution_count": null,
   "id": "5b618307-a66c-48fa-8acb-073716ee1a0f",
   "metadata": {},
   "outputs": [],
   "source": []
  }
 ],
 "metadata": {
  "kernelspec": {
   "display_name": "Python 3 (ipykernel)",
   "language": "python",
   "name": "python3"
  },
  "language_info": {
   "codemirror_mode": {
    "name": "ipython",
    "version": 3
   },
   "file_extension": ".py",
   "mimetype": "text/x-python",
   "name": "python",
   "nbconvert_exporter": "python",
   "pygments_lexer": "ipython3",
   "version": "3.9.10"
  }
 },
 "nbformat": 4,
 "nbformat_minor": 5
}
